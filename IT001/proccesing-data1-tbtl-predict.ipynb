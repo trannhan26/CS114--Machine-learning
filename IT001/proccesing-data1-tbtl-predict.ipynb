{
 "cells": [
  {
   "cell_type": "code",
   "execution_count": 1,
   "id": "276e158c",
   "metadata": {
    "_cell_guid": "b1076dfc-b9ad-4769-8c92-a6c4dae69d19",
    "_uuid": "8f2839f25d086af736a60e9eeb907d3b93b6e0e5",
    "papermill": {
     "duration": 0.685752,
     "end_time": "2024-07-05T12:13:17.298845",
     "exception": false,
     "start_time": "2024-07-05T12:13:16.613093",
     "status": "completed"
    },
    "tags": []
   },
   "outputs": [],
   "source": [
    "# import sys  # System-specific parameters and functions\n",
    "import numpy as np  # Fundamental package for scientific computing with Python\n",
    "import pandas as pd  # Powerful data structures for data manipulation and analysis\n",
    "from datetime import datetime  # Basic date and time types\n",
    "import warnings  # Warning control\n",
    "warnings.filterwarnings('ignore')  # Ignore warnings"
   ]
  },
  {
   "cell_type": "code",
   "execution_count": 2,
   "id": "9255c063",
   "metadata": {
    "papermill": {
     "duration": 2.50746,
     "end_time": "2024-07-05T12:13:19.821250",
     "exception": false,
     "start_time": "2024-07-05T12:13:17.313790",
     "status": "completed"
    },
    "tags": []
   },
   "outputs": [
    {
     "name": "stdout",
     "output_type": "stream",
     "text": [
      "<class 'pandas.core.frame.DataFrame'>\n",
      "Index: 288863 entries, 0 to 295197\n",
      "Data columns (total 11 columns):\n",
      " #   Column                           Non-Null Count   Dtype \n",
      "---  ------                           --------------   ----- \n",
      " 0   concat('it001',`assignment_id`)  288863 non-null  object\n",
      " 1   concat('it001',`problem_id`)     288863 non-null  object\n",
      " 2   concat('it001', username)        288863 non-null  object\n",
      " 3   is_final                         288863 non-null  int64 \n",
      " 4   status                           288863 non-null  object\n",
      " 5   pre_score                        288863 non-null  int64 \n",
      " 6   coefficient                      288863 non-null  int64 \n",
      " 7   concat('it001',`language_id`)    288863 non-null  object\n",
      " 8   created_at                       288863 non-null  object\n",
      " 9   updated_at                       288863 non-null  object\n",
      " 10  judgement                        288863 non-null  object\n",
      "dtypes: int64(3), object(8)\n",
      "memory usage: 26.4+ MB\n"
     ]
    }
   ],
   "source": [
    "df = pd.read_csv('C:/Users/nguye/Downloads/cs114/data-tbtl/annonimized.csv')\n",
    "df = df[(df['is_final'] != 0) | (df['pre_score'] != 10000)]\n",
    "df.info()"
   ]
  },
  {
   "cell_type": "code",
   "execution_count": 3,
   "id": "116d9724",
   "metadata": {
    "papermill": {
     "duration": 0.103888,
     "end_time": "2024-07-05T12:13:19.940961",
     "exception": false,
     "start_time": "2024-07-05T12:13:19.837073",
     "status": "completed"
    },
    "tags": []
   },
   "outputs": [],
   "source": [
    "df = df.rename(columns={\"concat('it001',`assignment_id`)\": 'assignment_id'})\n",
    "df = df.rename(columns={\"concat('it001',`problem_id`)\":'problem_id'})\n",
    "df = df.rename(columns={\"concat('it001', username)\":'username'})"
   ]
  },
  {
   "cell_type": "code",
   "execution_count": 4,
   "id": "d78c95e2",
   "metadata": {
    "papermill": {
     "duration": 0.052714,
     "end_time": "2024-07-05T12:13:20.008701",
     "exception": false,
     "start_time": "2024-07-05T12:13:19.955987",
     "status": "completed"
    },
    "tags": []
   },
   "outputs": [],
   "source": [
    "df = df.drop([\"concat('it001',`language_id`)\", 'updated_at'], axis=1)"
   ]
  },
  {
   "cell_type": "code",
   "execution_count": 5,
   "id": "58789ba0",
   "metadata": {
    "papermill": {
     "duration": 76.263783,
     "end_time": "2024-07-05T12:14:36.289531",
     "exception": false,
     "start_time": "2024-07-05T12:13:20.025748",
     "status": "completed"
    },
    "tags": []
   },
   "outputs": [],
   "source": [
    "def calculate_frequency_vector(student_df):\n",
    "    a = pd.to_datetime(student_df['created_at'], format='%m-%d %H:%M:%S', errors='coerce').dt.hour\n",
    "    a = a.dropna()  # Drop rows with NaT (errors in parsing)\n",
    "\n",
    "    hour_counts = a.value_counts().sort_index()\n",
    "    frequency_vector = np.zeros(24)\n",
    "    for hour, count in hour_counts.items():\n",
    "        hour = int(hour)\n",
    "        frequency_vector[hour] = count\n",
    "    return frequency_vector\n",
    "\n",
    "# Dictionary to store frequency vectors for each student\n",
    "frequency_vectors = {}\n",
    "\n",
    "# Iterate over each unique student and calculate their frequency vector\n",
    "for username in df[\"username\"].unique():\n",
    "    student_df = df[df[\"username\"] == username]\n",
    "    frequency_vectors[username] = calculate_frequency_vector(student_df)"
   ]
  },
  {
   "cell_type": "code",
   "execution_count": 6,
   "id": "e02191df",
   "metadata": {
    "papermill": {
     "duration": 0.039661,
     "end_time": "2024-07-05T12:14:36.344520",
     "exception": false,
     "start_time": "2024-07-05T12:14:36.304859",
     "status": "completed"
    },
    "tags": []
   },
   "outputs": [],
   "source": [
    "frequency_df = pd.DataFrame.from_dict(frequency_vectors, orient='index', columns=[f'hour_{i}' for i in range(24)]).reset_index()\n",
    "frequency_df.rename(columns={'index': \"username\"}, inplace=True)"
   ]
  },
  {
   "cell_type": "code",
   "execution_count": 7,
   "id": "2b3122af",
   "metadata": {
    "papermill": {
     "duration": 0.135357,
     "end_time": "2024-07-05T12:14:36.494441",
     "exception": false,
     "start_time": "2024-07-05T12:14:36.359084",
     "status": "completed"
    },
    "tags": []
   },
   "outputs": [],
   "source": [
    "df = df.merge(frequency_df, on=\"username\")"
   ]
  },
  {
   "cell_type": "code",
   "execution_count": 8,
   "id": "5ea2bab8",
   "metadata": {
    "papermill": {
     "duration": 0.154818,
     "end_time": "2024-07-05T12:14:36.664195",
     "exception": false,
     "start_time": "2024-07-05T12:14:36.509377",
     "status": "completed"
    },
    "tags": []
   },
   "outputs": [],
   "source": [
    "fixed_year = 2024  # Chọn một năm bất kỳ\n",
    "df['created_at'] = [f\"{fixed_year}-{date}\" for date in df['created_at']]"
   ]
  },
  {
   "cell_type": "code",
   "execution_count": 9,
   "id": "f0feb186",
   "metadata": {
    "papermill": {
     "duration": 1.930416,
     "end_time": "2024-07-05T12:14:38.609517",
     "exception": false,
     "start_time": "2024-07-05T12:14:36.679101",
     "status": "completed"
    },
    "tags": []
   },
   "outputs": [],
   "source": [
    "df['created_at'] = pd.to_datetime(df['created_at'])\n",
    "def adjust_year(date):\n",
    "    if date.month >= 9:\n",
    "        return date.replace(year=date.year - 1)\n",
    "    return date\n",
    "\n",
    "# Áp dụng hàm này vào cột 'created_at'\n",
    "df['created_at'] = df['created_at'].apply(adjust_year)"
   ]
  },
  {
   "cell_type": "code",
   "execution_count": 10,
   "id": "09f5b2e2",
   "metadata": {
    "papermill": {
     "duration": 0.032503,
     "end_time": "2024-07-05T12:14:38.657218",
     "exception": false,
     "start_time": "2024-07-05T12:14:38.624715",
     "status": "completed"
    },
    "tags": []
   },
   "outputs": [],
   "source": [
    "df['created_at'] = pd.to_datetime(df['created_at'])"
   ]
  },
  {
   "cell_type": "markdown",
   "id": "1e597f74",
   "metadata": {
    "papermill": {
     "duration": 0.01434,
     "end_time": "2024-07-05T12:14:38.685914",
     "exception": false,
     "start_time": "2024-07-05T12:14:38.671574",
     "status": "completed"
    },
    "tags": []
   },
   "source": [
    "# Số lượng assignment và problem"
   ]
  },
  {
   "cell_type": "code",
   "execution_count": 11,
   "id": "4117eed3",
   "metadata": {
    "papermill": {
     "duration": 0.221673,
     "end_time": "2024-07-05T12:14:38.922099",
     "exception": false,
     "start_time": "2024-07-05T12:14:38.700426",
     "status": "completed"
    },
    "tags": []
   },
   "outputs": [],
   "source": [
    "num_assigmnet1 = df.groupby([\"username\"])['assignment_id'].nunique().reset_index().rename(columns={'assignment_id': 'num_assigmnet1'})\n",
    "num_problem = df.groupby([\"username\"])[\"problem_id\"].nunique().reset_index().rename(columns={'problem_id': 'num_problem'})\n",
    "submit_count = df.groupby([\"username\"])[\"problem_id\"].count().reset_index().rename(columns={'problem_id': 'submit_count'})"
   ]
  },
  {
   "cell_type": "markdown",
   "id": "ad0377be",
   "metadata": {
    "papermill": {
     "duration": 0.014127,
     "end_time": "2024-07-05T12:14:38.951105",
     "exception": false,
     "start_time": "2024-07-05T12:14:38.936978",
     "status": "completed"
    },
    "tags": []
   },
   "source": [
    "# Số lần nộp SCORE và Khác"
   ]
  },
  {
   "cell_type": "code",
   "execution_count": 12,
   "id": "9783ad9f",
   "metadata": {
    "papermill": {
     "duration": 0.210986,
     "end_time": "2024-07-05T12:14:39.176458",
     "exception": false,
     "start_time": "2024-07-05T12:14:38.965472",
     "status": "completed"
    },
    "tags": []
   },
   "outputs": [],
   "source": [
    "count_non_score = df[df['status'] != 'SCORE'].groupby(\"username\").size().reset_index().rename(columns={0: 'count_NON_SCORE'})\n",
    "count_score = df[df['status'] == 'SCORE'].groupby(\"username\").size().reset_index().rename(columns={0: 'count_SCORE'})"
   ]
  },
  {
   "cell_type": "markdown",
   "id": "5931b42d",
   "metadata": {
    "papermill": {
     "duration": 0.014388,
     "end_time": "2024-07-05T12:14:39.205714",
     "exception": false,
     "start_time": "2024-07-05T12:14:39.191326",
     "status": "completed"
    },
    "tags": []
   },
   "source": [
    "# Số lần nộp is_final "
   ]
  },
  {
   "cell_type": "code",
   "execution_count": 13,
   "id": "b639fba3",
   "metadata": {
    "papermill": {
     "duration": 0.053364,
     "end_time": "2024-07-05T12:14:39.273612",
     "exception": false,
     "start_time": "2024-07-05T12:14:39.220248",
     "status": "completed"
    },
    "tags": []
   },
   "outputs": [],
   "source": [
    "count_is_final = df[df['is_final'] == 1].groupby(\"username\").size().reset_index().rename(columns={0: 'count_is_final'})"
   ]
  },
  {
   "cell_type": "markdown",
   "id": "2a430123",
   "metadata": {
    "papermill": {
     "duration": 0.014193,
     "end_time": "2024-07-05T12:14:39.302717",
     "exception": false,
     "start_time": "2024-07-05T12:14:39.288524",
     "status": "completed"
    },
    "tags": []
   },
   "source": [
    "# Điểm số trung bình"
   ]
  },
  {
   "cell_type": "code",
   "execution_count": 14,
   "id": "5da9ddfa",
   "metadata": {
    "papermill": {
     "duration": 0.059649,
     "end_time": "2024-07-05T12:14:39.376786",
     "exception": false,
     "start_time": "2024-07-05T12:14:39.317137",
     "status": "completed"
    },
    "tags": []
   },
   "outputs": [],
   "source": [
    "mean_pre_score = df.groupby([\"username\"])[\"pre_score\"].mean().reset_index().rename(columns={'pre_score': 'mean_pre_score'})"
   ]
  },
  {
   "cell_type": "markdown",
   "id": "2f892398",
   "metadata": {
    "papermill": {
     "duration": 0.014354,
     "end_time": "2024-07-05T12:14:39.405631",
     "exception": false,
     "start_time": "2024-07-05T12:14:39.391277",
     "status": "completed"
    },
    "tags": []
   },
   "source": [
    "# Tỉ số số lần nộp và assigment"
   ]
  },
  {
   "cell_type": "code",
   "execution_count": 15,
   "id": "6acda58f",
   "metadata": {
    "papermill": {
     "duration": 0.149963,
     "end_time": "2024-07-05T12:14:39.571833",
     "exception": false,
     "start_time": "2024-07-05T12:14:39.421870",
     "status": "completed"
    },
    "tags": []
   },
   "outputs": [],
   "source": [
    "count_of_assignments = df.groupby([\"username\"])[\"problem_id\"].count() / df.groupby([\"username\"])[\"assignment_id\"].nunique()"
   ]
  },
  {
   "cell_type": "code",
   "execution_count": 16,
   "id": "340a1e76",
   "metadata": {
    "papermill": {
     "duration": 0.063326,
     "end_time": "2024-07-05T12:14:39.650239",
     "exception": false,
     "start_time": "2024-07-05T12:14:39.586913",
     "status": "completed"
    },
    "tags": []
   },
   "outputs": [],
   "source": [
    "count_of_assignments = count_of_assignments.reset_index().rename(columns={0: 'count_of_assignments'})"
   ]
  },
  {
   "cell_type": "code",
   "execution_count": 17,
   "id": "8d0cec05",
   "metadata": {
    "papermill": {
     "duration": 0.03212,
     "end_time": "2024-07-05T12:14:39.697089",
     "exception": false,
     "start_time": "2024-07-05T12:14:39.664969",
     "status": "completed"
    },
    "tags": []
   },
   "outputs": [
    {
     "data": {
      "text/html": [
       "<div>\n",
       "<style scoped>\n",
       "    .dataframe tbody tr th:only-of-type {\n",
       "        vertical-align: middle;\n",
       "    }\n",
       "\n",
       "    .dataframe tbody tr th {\n",
       "        vertical-align: top;\n",
       "    }\n",
       "\n",
       "    .dataframe thead th {\n",
       "        text-align: right;\n",
       "    }\n",
       "</style>\n",
       "<table border=\"1\" class=\"dataframe\">\n",
       "  <thead>\n",
       "    <tr style=\"text-align: right;\">\n",
       "      <th></th>\n",
       "      <th>username</th>\n",
       "      <th>count_of_assignments</th>\n",
       "    </tr>\n",
       "  </thead>\n",
       "  <tbody>\n",
       "    <tr>\n",
       "      <th>0</th>\n",
       "      <td>00b6dd4fc7eb817e03708c532016ef30ce564a61</td>\n",
       "      <td>19.857143</td>\n",
       "    </tr>\n",
       "    <tr>\n",
       "      <th>1</th>\n",
       "      <td>00bef8afee8f3c595d535c9c03c490cac1a4f021</td>\n",
       "      <td>27.333333</td>\n",
       "    </tr>\n",
       "    <tr>\n",
       "      <th>2</th>\n",
       "      <td>01122b3ef7e59b84189e65985305f575d6bdf83c</td>\n",
       "      <td>27.857143</td>\n",
       "    </tr>\n",
       "    <tr>\n",
       "      <th>3</th>\n",
       "      <td>0134f9f410c65ad0e8c2254a7e9288670e02a183</td>\n",
       "      <td>23.750000</td>\n",
       "    </tr>\n",
       "    <tr>\n",
       "      <th>4</th>\n",
       "      <td>013de369c439ab0ead8aa7da64423aa395a8be39</td>\n",
       "      <td>13.250000</td>\n",
       "    </tr>\n",
       "    <tr>\n",
       "      <th>...</th>\n",
       "      <td>...</td>\n",
       "      <td>...</td>\n",
       "    </tr>\n",
       "    <tr>\n",
       "      <th>1484</th>\n",
       "      <td>feb8a2859a011c59efd22ed419cb69288fe03627</td>\n",
       "      <td>7.555556</td>\n",
       "    </tr>\n",
       "    <tr>\n",
       "      <th>1485</th>\n",
       "      <td>fef4a3263ed9a8ab14d457694bb8fd86ccd98312</td>\n",
       "      <td>42.500000</td>\n",
       "    </tr>\n",
       "    <tr>\n",
       "      <th>1486</th>\n",
       "      <td>ff12d6e2ab80696ed8e22fbe5497e96c68d29076</td>\n",
       "      <td>72.333333</td>\n",
       "    </tr>\n",
       "    <tr>\n",
       "      <th>1487</th>\n",
       "      <td>ff3fa2ec64294f37ae968159f810ebeda7966c51</td>\n",
       "      <td>13.428571</td>\n",
       "    </tr>\n",
       "    <tr>\n",
       "      <th>1488</th>\n",
       "      <td>ffe872165621d735a48bb5db0c71dd5195cba359</td>\n",
       "      <td>35.700000</td>\n",
       "    </tr>\n",
       "  </tbody>\n",
       "</table>\n",
       "<p>1489 rows × 2 columns</p>\n",
       "</div>"
      ],
      "text/plain": [
       "                                      username  count_of_assignments\n",
       "0     00b6dd4fc7eb817e03708c532016ef30ce564a61             19.857143\n",
       "1     00bef8afee8f3c595d535c9c03c490cac1a4f021             27.333333\n",
       "2     01122b3ef7e59b84189e65985305f575d6bdf83c             27.857143\n",
       "3     0134f9f410c65ad0e8c2254a7e9288670e02a183             23.750000\n",
       "4     013de369c439ab0ead8aa7da64423aa395a8be39             13.250000\n",
       "...                                        ...                   ...\n",
       "1484  feb8a2859a011c59efd22ed419cb69288fe03627              7.555556\n",
       "1485  fef4a3263ed9a8ab14d457694bb8fd86ccd98312             42.500000\n",
       "1486  ff12d6e2ab80696ed8e22fbe5497e96c68d29076             72.333333\n",
       "1487  ff3fa2ec64294f37ae968159f810ebeda7966c51             13.428571\n",
       "1488  ffe872165621d735a48bb5db0c71dd5195cba359             35.700000\n",
       "\n",
       "[1489 rows x 2 columns]"
      ]
     },
     "execution_count": 17,
     "metadata": {},
     "output_type": "execute_result"
    }
   ],
   "source": [
    "count_of_assignments"
   ]
  },
  {
   "cell_type": "markdown",
   "id": "c7095b45",
   "metadata": {
    "papermill": {
     "duration": 0.01469,
     "end_time": "2024-07-05T12:14:39.726626",
     "exception": false,
     "start_time": "2024-07-05T12:14:39.711936",
     "status": "completed"
    },
    "tags": []
   },
   "source": [
    "# Tỉ số số lần nộp và problem"
   ]
  },
  {
   "cell_type": "code",
   "execution_count": 18,
   "id": "b8e2b96f",
   "metadata": {
    "papermill": {
     "duration": 0.154602,
     "end_time": "2024-07-05T12:14:39.896122",
     "exception": false,
     "start_time": "2024-07-05T12:14:39.741520",
     "status": "completed"
    },
    "tags": []
   },
   "outputs": [],
   "source": [
    "count_of_problems = df.groupby([\"username\"])[\"problem_id\"].count() / df.groupby([\"username\"])[\"problem_id\"].nunique()\n",
    "count_of_problems = count_of_problems.reset_index().rename(columns={0: 'count_of_problems'})"
   ]
  },
  {
   "cell_type": "code",
   "execution_count": 19,
   "id": "de3b382a",
   "metadata": {
    "papermill": {
     "duration": 0.364596,
     "end_time": "2024-07-05T12:14:40.275966",
     "exception": false,
     "start_time": "2024-07-05T12:14:39.911370",
     "status": "completed"
    },
    "tags": []
   },
   "outputs": [],
   "source": [
    "tgia = df.groupby([\"username\", \"problem_id\"])[\"pre_score\"].max()\n",
    "tgia = tgia.groupby([\"username\"]).apply(lambda x: (x != 10000).sum()) / tgia.groupby([\"username\"]).count()"
   ]
  },
  {
   "cell_type": "code",
   "execution_count": 20,
   "id": "1bd4b3dc",
   "metadata": {
    "papermill": {
     "duration": 0.023073,
     "end_time": "2024-07-05T12:14:40.314201",
     "exception": false,
     "start_time": "2024-07-05T12:14:40.291128",
     "status": "completed"
    },
    "tags": []
   },
   "outputs": [],
   "source": [
    "tgia = tgia.reset_index().rename(columns={\"pre_score\": 'ratio_not_10000'})"
   ]
  },
  {
   "cell_type": "code",
   "execution_count": 21,
   "id": "5f41f720",
   "metadata": {
    "papermill": {
     "duration": 0.143917,
     "end_time": "2024-07-05T12:14:40.472773",
     "exception": false,
     "start_time": "2024-07-05T12:14:40.328856",
     "status": "completed"
    },
    "tags": []
   },
   "outputs": [],
   "source": [
    "mean_submit_problem = df.groupby([\"username\", \"problem_id\"])[\"problem_id\"].count()\n",
    "mean_submit_problem = mean_submit_problem.groupby(\"username\").mean().reset_index().rename(columns={\"problem_id\": 'mean_submit_problem'})"
   ]
  },
  {
   "cell_type": "code",
   "execution_count": 22,
   "id": "4866b12c",
   "metadata": {
    "papermill": {
     "duration": 0.136053,
     "end_time": "2024-07-05T12:14:40.624685",
     "exception": false,
     "start_time": "2024-07-05T12:14:40.488632",
     "status": "completed"
    },
    "tags": []
   },
   "outputs": [],
   "source": [
    "mean_submit_assignment = df.groupby([\"username\", \"assignment_id\"])[\"assignment_id\"].count()\n",
    "mean_submit_assignment = mean_submit_problem.groupby(\"username\").mean().reset_index().rename(columns={\"assignment_id\": 'mean_submit_assignment'})"
   ]
  },
  {
   "cell_type": "code",
   "execution_count": 23,
   "id": "313ae59a",
   "metadata": {
    "papermill": {
     "duration": 13.500454,
     "end_time": "2024-07-05T12:14:54.145963",
     "exception": false,
     "start_time": "2024-07-05T12:14:40.645509",
     "status": "completed"
    },
    "tags": []
   },
   "outputs": [],
   "source": [
    "mean_time_problem = df.groupby([\"username\", \"problem_id\"])['created_at'].agg(lambda x: (x.max() - x.min()).total_seconds() / 3600)\n",
    "mean_time_problem = (mean_time_problem.groupby([\"username\"]).mean()/10).reset_index().rename(columns={\"created_at\": 'mean_submit_problem'})"
   ]
  },
  {
   "cell_type": "code",
   "execution_count": 24,
   "id": "e38cbcba",
   "metadata": {
    "papermill": {
     "duration": 1.615932,
     "end_time": "2024-07-05T12:14:55.777263",
     "exception": false,
     "start_time": "2024-07-05T12:14:54.161331",
     "status": "completed"
    },
    "tags": []
   },
   "outputs": [],
   "source": [
    "mean_time_assignment = df.groupby([\"username\", \"assignment_id\"])['created_at'].agg(lambda x: (x.max() - x.min()).total_seconds() / 3600)\n",
    "mean_time_assignment = (mean_time_assignment.groupby([\"username\"]).mean()/10).reset_index().rename(columns={\"created_at\": 'mean_submit_assignment'})"
   ]
  },
  {
   "cell_type": "code",
   "execution_count": 25,
   "id": "974afb85",
   "metadata": {
    "papermill": {
     "duration": 1.510959,
     "end_time": "2024-07-05T12:14:57.303653",
     "exception": false,
     "start_time": "2024-07-05T12:14:55.792694",
     "status": "completed"
    },
    "tags": []
   },
   "outputs": [],
   "source": [
    "df = df.merge(num_assigmnet1, on=\"username\")\n",
    "df = df.merge(num_problem, on=\"username\")\n",
    "df = df.merge(submit_count, on=\"username\")\n",
    "df = df.merge(count_non_score, on=\"username\")\n",
    "df = df.merge(count_score, on=\"username\")\n",
    "df = df.merge(count_is_final, on=\"username\")\n",
    "df = df.merge(mean_pre_score, on=\"username\")\n",
    "df = df.merge(count_of_assignments, on=\"username\")\n",
    "df = df.merge(tgia, on=\"username\")\n",
    "df = df.merge(count_of_problems, on=\"username\")\n",
    "df = df.merge(mean_submit_problem, on=\"username\")\n",
    "df = df.merge(mean_time_problem, on=\"username\")"
   ]
  },
  {
   "cell_type": "code",
   "execution_count": 26,
   "id": "33fb8512",
   "metadata": {
    "papermill": {
     "duration": 0.067658,
     "end_time": "2024-07-05T12:14:57.386500",
     "exception": false,
     "start_time": "2024-07-05T12:14:57.318842",
     "status": "completed"
    },
    "tags": []
   },
   "outputs": [],
   "source": [
    "df = df.drop(['problem_id_x'],axis = 1)"
   ]
  },
  {
   "cell_type": "code",
   "execution_count": 27,
   "id": "5c8da26a",
   "metadata": {
    "papermill": {
     "duration": 0.06979,
     "end_time": "2024-07-05T12:14:57.471831",
     "exception": false,
     "start_time": "2024-07-05T12:14:57.402041",
     "status": "completed"
    },
    "tags": []
   },
   "outputs": [],
   "source": [
    "df = df.drop(['problem_id_y'],axis = 1)"
   ]
  },
  {
   "cell_type": "code",
   "execution_count": 28,
   "id": "8bce0d9f",
   "metadata": {
    "papermill": {
     "duration": 0.060971,
     "end_time": "2024-07-05T12:14:57.549556",
     "exception": false,
     "start_time": "2024-07-05T12:14:57.488585",
     "status": "completed"
    },
    "tags": []
   },
   "outputs": [],
   "source": [
    "df = df.drop(['assignment_id'],axis = 1)"
   ]
  },
  {
   "cell_type": "code",
   "execution_count": 29,
   "id": "b45415fa",
   "metadata": {
    "papermill": {
     "duration": 0.023637,
     "end_time": "2024-07-05T12:14:57.588516",
     "exception": false,
     "start_time": "2024-07-05T12:14:57.564879",
     "status": "completed"
    },
    "tags": []
   },
   "outputs": [
    {
     "data": {
      "text/plain": [
       "Index(['username', 'is_final', 'status', 'pre_score', 'coefficient',\n",
       "       'created_at', 'judgement', 'hour_0', 'hour_1', 'hour_2', 'hour_3',\n",
       "       'hour_4', 'hour_5', 'hour_6', 'hour_7', 'hour_8', 'hour_9', 'hour_10',\n",
       "       'hour_11', 'hour_12', 'hour_13', 'hour_14', 'hour_15', 'hour_16',\n",
       "       'hour_17', 'hour_18', 'hour_19', 'hour_20', 'hour_21', 'hour_22',\n",
       "       'hour_23', 'num_assigmnet1', 'num_problem', 'submit_count',\n",
       "       'count_NON_SCORE', 'count_SCORE', 'count_is_final', 'mean_pre_score',\n",
       "       'count_of_assignments', 'ratio_not_10000', 'mean_submit_problem_x',\n",
       "       'mean_submit_problem_y'],\n",
       "      dtype='object')"
      ]
     },
     "execution_count": 29,
     "metadata": {},
     "output_type": "execute_result"
    }
   ],
   "source": [
    "df.columns"
   ]
  },
  {
   "cell_type": "code",
   "execution_count": 31,
   "id": "3e3c65dd",
   "metadata": {
    "papermill": {
     "duration": 4.474438,
     "end_time": "2024-07-05T12:15:15.425693",
     "exception": false,
     "start_time": "2024-07-05T12:15:10.951255",
     "status": "completed"
    },
    "tags": []
   },
   "outputs": [],
   "source": [
    "import warnings\n",
    "warnings.simplefilter(action='ignore', category=FutureWarning)\n",
    "import os\n",
    "import numpy as np\n",
    "import pandas as pd\n",
    "from datetime import datetime\n",
    "import matplotlib.pyplot as plt\n",
    "import seaborn as sns\n",
    "from sklearn.model_selection import KFold, StratifiedKFold\n",
    "from sklearn.base import BaseEstimator, RegressorMixin\n",
    "from sklearn.metrics import mean_squared_error as MSE\n",
    "import lightgbm as lgb\n",
    "import optuna\n",
    "from sklearn.model_selection import cross_validate\n",
    "from lightgbm import LGBMRegressor\n",
    "from catboost import CatBoostRegressor\n",
    "from sklearn.metrics import r2_score\n",
    "from sklearn.ensemble import VotingRegressor\n",
    "from sklearn.compose import ColumnTransformer\n",
    "from sklearn.pipeline import Pipeline\n",
    "from sklearn.preprocessing import StandardScaler\n",
    "from sklearn.impute import SimpleImputer, KNNImputer"
   ]
  },
  {
   "cell_type": "code",
   "execution_count": 32,
   "id": "d16bf334",
   "metadata": {
    "papermill": {
     "duration": 0.052937,
     "end_time": "2024-07-05T12:15:15.494590",
     "exception": false,
     "start_time": "2024-07-05T12:15:15.441653",
     "status": "completed"
    },
    "tags": []
   },
   "outputs": [],
   "source": [
    "train_term1 = df.drop(['is_final','status','pre_score','coefficient','created_at','judgement'], axis = 1)"
   ]
  },
  {
   "cell_type": "code",
   "execution_count": 33,
   "id": "7244f816",
   "metadata": {
    "papermill": {
     "duration": 0.022306,
     "end_time": "2024-07-05T12:15:15.532577",
     "exception": false,
     "start_time": "2024-07-05T12:15:15.510271",
     "status": "completed"
    },
    "tags": []
   },
   "outputs": [],
   "source": [
    "test_term1 = train_term1"
   ]
  },
  {
   "cell_type": "code",
   "execution_count": 34,
   "id": "24c95b76",
   "metadata": {
    "papermill": {
     "duration": 0.165719,
     "end_time": "2024-07-05T12:15:15.713625",
     "exception": false,
     "start_time": "2024-07-05T12:15:15.547906",
     "status": "completed"
    },
    "tags": []
   },
   "outputs": [
    {
     "data": {
      "text/html": [
       "<div>\n",
       "<style scoped>\n",
       "    .dataframe tbody tr th:only-of-type {\n",
       "        vertical-align: middle;\n",
       "    }\n",
       "\n",
       "    .dataframe tbody tr th {\n",
       "        vertical-align: top;\n",
       "    }\n",
       "\n",
       "    .dataframe thead th {\n",
       "        text-align: right;\n",
       "    }\n",
       "</style>\n",
       "<table border=\"1\" class=\"dataframe\">\n",
       "  <thead>\n",
       "    <tr style=\"text-align: right;\">\n",
       "      <th></th>\n",
       "      <th>username</th>\n",
       "      <th>hour_0</th>\n",
       "      <th>hour_1</th>\n",
       "      <th>hour_2</th>\n",
       "      <th>hour_3</th>\n",
       "      <th>hour_4</th>\n",
       "      <th>hour_5</th>\n",
       "      <th>hour_6</th>\n",
       "      <th>hour_7</th>\n",
       "      <th>hour_8</th>\n",
       "      <th>...</th>\n",
       "      <th>num_problem</th>\n",
       "      <th>submit_count</th>\n",
       "      <th>count_NON_SCORE</th>\n",
       "      <th>count_SCORE</th>\n",
       "      <th>count_is_final</th>\n",
       "      <th>mean_pre_score</th>\n",
       "      <th>count_of_assignments</th>\n",
       "      <th>ratio_not_10000</th>\n",
       "      <th>mean_submit_problem_x</th>\n",
       "      <th>mean_submit_problem_y</th>\n",
       "    </tr>\n",
       "  </thead>\n",
       "  <tbody>\n",
       "    <tr>\n",
       "      <th>0</th>\n",
       "      <td>ed9eaeb6a707f50154024b24d7efcb874a9795dd</td>\n",
       "      <td>6.0</td>\n",
       "      <td>6.0</td>\n",
       "      <td>1.0</td>\n",
       "      <td>1.0</td>\n",
       "      <td>6.0</td>\n",
       "      <td>8.0</td>\n",
       "      <td>5.0</td>\n",
       "      <td>11.0</td>\n",
       "      <td>17.0</td>\n",
       "      <td>...</td>\n",
       "      <td>58</td>\n",
       "      <td>136</td>\n",
       "      <td>34</td>\n",
       "      <td>102</td>\n",
       "      <td>58</td>\n",
       "      <td>5202.000000</td>\n",
       "      <td>27.200000</td>\n",
       "      <td>0.034483</td>\n",
       "      <td>2.344828</td>\n",
       "      <td>0.177979</td>\n",
       "    </tr>\n",
       "    <tr>\n",
       "      <th>1</th>\n",
       "      <td>ed9eaeb6a707f50154024b24d7efcb874a9795dd</td>\n",
       "      <td>6.0</td>\n",
       "      <td>6.0</td>\n",
       "      <td>1.0</td>\n",
       "      <td>1.0</td>\n",
       "      <td>6.0</td>\n",
       "      <td>8.0</td>\n",
       "      <td>5.0</td>\n",
       "      <td>11.0</td>\n",
       "      <td>17.0</td>\n",
       "      <td>...</td>\n",
       "      <td>58</td>\n",
       "      <td>136</td>\n",
       "      <td>34</td>\n",
       "      <td>102</td>\n",
       "      <td>58</td>\n",
       "      <td>5202.000000</td>\n",
       "      <td>27.200000</td>\n",
       "      <td>0.034483</td>\n",
       "      <td>2.344828</td>\n",
       "      <td>0.177979</td>\n",
       "    </tr>\n",
       "    <tr>\n",
       "      <th>2</th>\n",
       "      <td>ed9eaeb6a707f50154024b24d7efcb874a9795dd</td>\n",
       "      <td>6.0</td>\n",
       "      <td>6.0</td>\n",
       "      <td>1.0</td>\n",
       "      <td>1.0</td>\n",
       "      <td>6.0</td>\n",
       "      <td>8.0</td>\n",
       "      <td>5.0</td>\n",
       "      <td>11.0</td>\n",
       "      <td>17.0</td>\n",
       "      <td>...</td>\n",
       "      <td>58</td>\n",
       "      <td>136</td>\n",
       "      <td>34</td>\n",
       "      <td>102</td>\n",
       "      <td>58</td>\n",
       "      <td>5202.000000</td>\n",
       "      <td>27.200000</td>\n",
       "      <td>0.034483</td>\n",
       "      <td>2.344828</td>\n",
       "      <td>0.177979</td>\n",
       "    </tr>\n",
       "    <tr>\n",
       "      <th>3</th>\n",
       "      <td>ed9eaeb6a707f50154024b24d7efcb874a9795dd</td>\n",
       "      <td>6.0</td>\n",
       "      <td>6.0</td>\n",
       "      <td>1.0</td>\n",
       "      <td>1.0</td>\n",
       "      <td>6.0</td>\n",
       "      <td>8.0</td>\n",
       "      <td>5.0</td>\n",
       "      <td>11.0</td>\n",
       "      <td>17.0</td>\n",
       "      <td>...</td>\n",
       "      <td>58</td>\n",
       "      <td>136</td>\n",
       "      <td>34</td>\n",
       "      <td>102</td>\n",
       "      <td>58</td>\n",
       "      <td>5202.000000</td>\n",
       "      <td>27.200000</td>\n",
       "      <td>0.034483</td>\n",
       "      <td>2.344828</td>\n",
       "      <td>0.177979</td>\n",
       "    </tr>\n",
       "    <tr>\n",
       "      <th>4</th>\n",
       "      <td>ed9eaeb6a707f50154024b24d7efcb874a9795dd</td>\n",
       "      <td>6.0</td>\n",
       "      <td>6.0</td>\n",
       "      <td>1.0</td>\n",
       "      <td>1.0</td>\n",
       "      <td>6.0</td>\n",
       "      <td>8.0</td>\n",
       "      <td>5.0</td>\n",
       "      <td>11.0</td>\n",
       "      <td>17.0</td>\n",
       "      <td>...</td>\n",
       "      <td>58</td>\n",
       "      <td>136</td>\n",
       "      <td>34</td>\n",
       "      <td>102</td>\n",
       "      <td>58</td>\n",
       "      <td>5202.000000</td>\n",
       "      <td>27.200000</td>\n",
       "      <td>0.034483</td>\n",
       "      <td>2.344828</td>\n",
       "      <td>0.177979</td>\n",
       "    </tr>\n",
       "    <tr>\n",
       "      <th>...</th>\n",
       "      <td>...</td>\n",
       "      <td>...</td>\n",
       "      <td>...</td>\n",
       "      <td>...</td>\n",
       "      <td>...</td>\n",
       "      <td>...</td>\n",
       "      <td>...</td>\n",
       "      <td>...</td>\n",
       "      <td>...</td>\n",
       "      <td>...</td>\n",
       "      <td>...</td>\n",
       "      <td>...</td>\n",
       "      <td>...</td>\n",
       "      <td>...</td>\n",
       "      <td>...</td>\n",
       "      <td>...</td>\n",
       "      <td>...</td>\n",
       "      <td>...</td>\n",
       "      <td>...</td>\n",
       "      <td>...</td>\n",
       "      <td>...</td>\n",
       "    </tr>\n",
       "    <tr>\n",
       "      <th>288284</th>\n",
       "      <td>232cce96362898f08e9150ba244adaf2d6583ab2</td>\n",
       "      <td>0.0</td>\n",
       "      <td>0.0</td>\n",
       "      <td>10.0</td>\n",
       "      <td>7.0</td>\n",
       "      <td>2.0</td>\n",
       "      <td>8.0</td>\n",
       "      <td>4.0</td>\n",
       "      <td>6.0</td>\n",
       "      <td>20.0</td>\n",
       "      <td>...</td>\n",
       "      <td>98</td>\n",
       "      <td>216</td>\n",
       "      <td>45</td>\n",
       "      <td>171</td>\n",
       "      <td>98</td>\n",
       "      <td>5680.976852</td>\n",
       "      <td>19.636364</td>\n",
       "      <td>0.020408</td>\n",
       "      <td>2.204082</td>\n",
       "      <td>1.677821</td>\n",
       "    </tr>\n",
       "    <tr>\n",
       "      <th>288285</th>\n",
       "      <td>232cce96362898f08e9150ba244adaf2d6583ab2</td>\n",
       "      <td>0.0</td>\n",
       "      <td>0.0</td>\n",
       "      <td>10.0</td>\n",
       "      <td>7.0</td>\n",
       "      <td>2.0</td>\n",
       "      <td>8.0</td>\n",
       "      <td>4.0</td>\n",
       "      <td>6.0</td>\n",
       "      <td>20.0</td>\n",
       "      <td>...</td>\n",
       "      <td>98</td>\n",
       "      <td>216</td>\n",
       "      <td>45</td>\n",
       "      <td>171</td>\n",
       "      <td>98</td>\n",
       "      <td>5680.976852</td>\n",
       "      <td>19.636364</td>\n",
       "      <td>0.020408</td>\n",
       "      <td>2.204082</td>\n",
       "      <td>1.677821</td>\n",
       "    </tr>\n",
       "    <tr>\n",
       "      <th>288286</th>\n",
       "      <td>232cce96362898f08e9150ba244adaf2d6583ab2</td>\n",
       "      <td>0.0</td>\n",
       "      <td>0.0</td>\n",
       "      <td>10.0</td>\n",
       "      <td>7.0</td>\n",
       "      <td>2.0</td>\n",
       "      <td>8.0</td>\n",
       "      <td>4.0</td>\n",
       "      <td>6.0</td>\n",
       "      <td>20.0</td>\n",
       "      <td>...</td>\n",
       "      <td>98</td>\n",
       "      <td>216</td>\n",
       "      <td>45</td>\n",
       "      <td>171</td>\n",
       "      <td>98</td>\n",
       "      <td>5680.976852</td>\n",
       "      <td>19.636364</td>\n",
       "      <td>0.020408</td>\n",
       "      <td>2.204082</td>\n",
       "      <td>1.677821</td>\n",
       "    </tr>\n",
       "    <tr>\n",
       "      <th>288287</th>\n",
       "      <td>232cce96362898f08e9150ba244adaf2d6583ab2</td>\n",
       "      <td>0.0</td>\n",
       "      <td>0.0</td>\n",
       "      <td>10.0</td>\n",
       "      <td>7.0</td>\n",
       "      <td>2.0</td>\n",
       "      <td>8.0</td>\n",
       "      <td>4.0</td>\n",
       "      <td>6.0</td>\n",
       "      <td>20.0</td>\n",
       "      <td>...</td>\n",
       "      <td>98</td>\n",
       "      <td>216</td>\n",
       "      <td>45</td>\n",
       "      <td>171</td>\n",
       "      <td>98</td>\n",
       "      <td>5680.976852</td>\n",
       "      <td>19.636364</td>\n",
       "      <td>0.020408</td>\n",
       "      <td>2.204082</td>\n",
       "      <td>1.677821</td>\n",
       "    </tr>\n",
       "    <tr>\n",
       "      <th>288288</th>\n",
       "      <td>232cce96362898f08e9150ba244adaf2d6583ab2</td>\n",
       "      <td>0.0</td>\n",
       "      <td>0.0</td>\n",
       "      <td>10.0</td>\n",
       "      <td>7.0</td>\n",
       "      <td>2.0</td>\n",
       "      <td>8.0</td>\n",
       "      <td>4.0</td>\n",
       "      <td>6.0</td>\n",
       "      <td>20.0</td>\n",
       "      <td>...</td>\n",
       "      <td>98</td>\n",
       "      <td>216</td>\n",
       "      <td>45</td>\n",
       "      <td>171</td>\n",
       "      <td>98</td>\n",
       "      <td>5680.976852</td>\n",
       "      <td>19.636364</td>\n",
       "      <td>0.020408</td>\n",
       "      <td>2.204082</td>\n",
       "      <td>1.677821</td>\n",
       "    </tr>\n",
       "  </tbody>\n",
       "</table>\n",
       "<p>288289 rows × 36 columns</p>\n",
       "</div>"
      ],
      "text/plain": [
       "                                        username  hour_0  hour_1  hour_2  \\\n",
       "0       ed9eaeb6a707f50154024b24d7efcb874a9795dd     6.0     6.0     1.0   \n",
       "1       ed9eaeb6a707f50154024b24d7efcb874a9795dd     6.0     6.0     1.0   \n",
       "2       ed9eaeb6a707f50154024b24d7efcb874a9795dd     6.0     6.0     1.0   \n",
       "3       ed9eaeb6a707f50154024b24d7efcb874a9795dd     6.0     6.0     1.0   \n",
       "4       ed9eaeb6a707f50154024b24d7efcb874a9795dd     6.0     6.0     1.0   \n",
       "...                                          ...     ...     ...     ...   \n",
       "288284  232cce96362898f08e9150ba244adaf2d6583ab2     0.0     0.0    10.0   \n",
       "288285  232cce96362898f08e9150ba244adaf2d6583ab2     0.0     0.0    10.0   \n",
       "288286  232cce96362898f08e9150ba244adaf2d6583ab2     0.0     0.0    10.0   \n",
       "288287  232cce96362898f08e9150ba244adaf2d6583ab2     0.0     0.0    10.0   \n",
       "288288  232cce96362898f08e9150ba244adaf2d6583ab2     0.0     0.0    10.0   \n",
       "\n",
       "        hour_3  hour_4  hour_5  hour_6  hour_7  hour_8  ...  num_problem  \\\n",
       "0          1.0     6.0     8.0     5.0    11.0    17.0  ...           58   \n",
       "1          1.0     6.0     8.0     5.0    11.0    17.0  ...           58   \n",
       "2          1.0     6.0     8.0     5.0    11.0    17.0  ...           58   \n",
       "3          1.0     6.0     8.0     5.0    11.0    17.0  ...           58   \n",
       "4          1.0     6.0     8.0     5.0    11.0    17.0  ...           58   \n",
       "...        ...     ...     ...     ...     ...     ...  ...          ...   \n",
       "288284     7.0     2.0     8.0     4.0     6.0    20.0  ...           98   \n",
       "288285     7.0     2.0     8.0     4.0     6.0    20.0  ...           98   \n",
       "288286     7.0     2.0     8.0     4.0     6.0    20.0  ...           98   \n",
       "288287     7.0     2.0     8.0     4.0     6.0    20.0  ...           98   \n",
       "288288     7.0     2.0     8.0     4.0     6.0    20.0  ...           98   \n",
       "\n",
       "        submit_count  count_NON_SCORE  count_SCORE  count_is_final  \\\n",
       "0                136               34          102              58   \n",
       "1                136               34          102              58   \n",
       "2                136               34          102              58   \n",
       "3                136               34          102              58   \n",
       "4                136               34          102              58   \n",
       "...              ...              ...          ...             ...   \n",
       "288284           216               45          171              98   \n",
       "288285           216               45          171              98   \n",
       "288286           216               45          171              98   \n",
       "288287           216               45          171              98   \n",
       "288288           216               45          171              98   \n",
       "\n",
       "        mean_pre_score  count_of_assignments  ratio_not_10000  \\\n",
       "0          5202.000000             27.200000         0.034483   \n",
       "1          5202.000000             27.200000         0.034483   \n",
       "2          5202.000000             27.200000         0.034483   \n",
       "3          5202.000000             27.200000         0.034483   \n",
       "4          5202.000000             27.200000         0.034483   \n",
       "...                ...                   ...              ...   \n",
       "288284     5680.976852             19.636364         0.020408   \n",
       "288285     5680.976852             19.636364         0.020408   \n",
       "288286     5680.976852             19.636364         0.020408   \n",
       "288287     5680.976852             19.636364         0.020408   \n",
       "288288     5680.976852             19.636364         0.020408   \n",
       "\n",
       "        mean_submit_problem_x  mean_submit_problem_y  \n",
       "0                    2.344828               0.177979  \n",
       "1                    2.344828               0.177979  \n",
       "2                    2.344828               0.177979  \n",
       "3                    2.344828               0.177979  \n",
       "4                    2.344828               0.177979  \n",
       "...                       ...                    ...  \n",
       "288284               2.204082               1.677821  \n",
       "288285               2.204082               1.677821  \n",
       "288286               2.204082               1.677821  \n",
       "288287               2.204082               1.677821  \n",
       "288288               2.204082               1.677821  \n",
       "\n",
       "[288289 rows x 36 columns]"
      ]
     },
     "execution_count": 34,
     "metadata": {},
     "output_type": "execute_result"
    }
   ],
   "source": [
    "test_term1"
   ]
  },
  {
   "cell_type": "code",
   "execution_count": 35,
   "id": "34fa6300",
   "metadata": {
    "papermill": {
     "duration": 0.033469,
     "end_time": "2024-07-05T12:15:15.763492",
     "exception": false,
     "start_time": "2024-07-05T12:15:15.730023",
     "status": "completed"
    },
    "tags": []
   },
   "outputs": [],
   "source": [
    "test_term1.drop_duplicates(subset='username', keep='first', inplace=True)"
   ]
  },
  {
   "cell_type": "code",
   "execution_count": 36,
   "id": "b01cba0f",
   "metadata": {
    "papermill": {
     "duration": 0.317329,
     "end_time": "2024-07-05T12:15:16.096611",
     "exception": false,
     "start_time": "2024-07-05T12:15:15.779282",
     "status": "completed"
    },
    "tags": []
   },
   "outputs": [],
   "source": [
    "qt_train = pd.read_excel('C:/Users/nguye/Downloads/cs114/data-tbtl/tbtl-public.ods')"
   ]
  },
  {
   "cell_type": "code",
   "execution_count": 37,
   "id": "5dbfe8c4",
   "metadata": {
    "papermill": {
     "duration": 0.032614,
     "end_time": "2024-07-05T12:15:16.145719",
     "exception": false,
     "start_time": "2024-07-05T12:15:16.113105",
     "status": "completed"
    },
    "tags": []
   },
   "outputs": [],
   "source": [
    "qt_train.isnull().sum()\n",
    "qt_train = qt_train.rename(columns={\"hash\":'username'})\n",
    "qt_train.dropna(inplace=True)\n",
    "train_term1 = train_term1.merge(qt_train, on='username', how='inner')\n",
    "train_term1.drop_duplicates(subset='username', keep='first', inplace=True)\n",
    "train_term1.dropna(inplace=True)"
   ]
  },
  {
   "cell_type": "code",
   "execution_count": 38,
   "id": "c2720f92",
   "metadata": {
    "papermill": {
     "duration": 0.024365,
     "end_time": "2024-07-05T12:15:16.185853",
     "exception": false,
     "start_time": "2024-07-05T12:15:16.161488",
     "status": "completed"
    },
    "tags": []
   },
   "outputs": [
    {
     "data": {
      "text/plain": [
       "Index(['username', 'hour_0', 'hour_1', 'hour_2', 'hour_3', 'hour_4', 'hour_5',\n",
       "       'hour_6', 'hour_7', 'hour_8', 'hour_9', 'hour_10', 'hour_11', 'hour_12',\n",
       "       'hour_13', 'hour_14', 'hour_15', 'hour_16', 'hour_17', 'hour_18',\n",
       "       'hour_19', 'hour_20', 'hour_21', 'hour_22', 'hour_23', 'num_assigmnet1',\n",
       "       'num_problem', 'submit_count', 'count_NON_SCORE', 'count_SCORE',\n",
       "       'count_is_final', 'mean_pre_score', 'count_of_assignments',\n",
       "       'ratio_not_10000', 'mean_submit_problem_x', 'mean_submit_problem_y',\n",
       "       'TBTL'],\n",
       "      dtype='object')"
      ]
     },
     "execution_count": 38,
     "metadata": {},
     "output_type": "execute_result"
    }
   ],
   "source": [
    "train_term1.columns"
   ]
  },
  {
   "cell_type": "code",
   "execution_count": 39,
   "id": "0cac941a",
   "metadata": {
    "papermill": {
     "duration": 0.023038,
     "end_time": "2024-07-05T12:15:16.224906",
     "exception": false,
     "start_time": "2024-07-05T12:15:16.201868",
     "status": "completed"
    },
    "tags": []
   },
   "outputs": [],
   "source": [
    "X_train= train_term1.drop(columns=[\"TBTL\", \"username\"])\n",
    "y = train_term1['TBTL']"
   ]
  },
  {
   "cell_type": "code",
   "execution_count": 40,
   "id": "85465ac3",
   "metadata": {
    "papermill": {
     "duration": 0.023163,
     "end_time": "2024-07-05T12:15:16.264350",
     "exception": false,
     "start_time": "2024-07-05T12:15:16.241187",
     "status": "completed"
    },
    "tags": []
   },
   "outputs": [],
   "source": [
    "y = np.asarray(y)\n",
    "X_pca = np.asarray(X_train)"
   ]
  },
  {
   "cell_type": "code",
   "execution_count": 41,
   "id": "cf260ae0",
   "metadata": {
    "papermill": {
     "duration": 0.02685,
     "end_time": "2024-07-05T12:15:16.308975",
     "exception": false,
     "start_time": "2024-07-05T12:15:16.282125",
     "status": "completed"
    },
    "tags": []
   },
   "outputs": [],
   "source": [
    "def objective_lgb(trial):\n",
    "    params = {\n",
    "        \"objective\": \"regression\",\n",
    "        \"metric\": \"rmse\",\n",
    "        \"n_estimators\": 1000,\n",
    "        \"verbosity\": -1,\n",
    "        \"bagging_freq\": 1,\n",
    "        \"learning_rate\": trial.suggest_float(\"learning_rate\", 1e-3, 0.1, log=True),\n",
    "        \"num_leaves\": trial.suggest_int(\"num_leaves\", 2, 2**10),\n",
    "        \"subsample\": trial.suggest_float(\"subsample\", 0.05, 1.0),\n",
    "        \"colsample_bytree\": trial.suggest_float(\"colsample_bytree\", 0.05, 1.0),\n",
    "        \"min_data_in_leaf\": trial.suggest_int(\"min_data_in_leaf\", 1, 100),\n",
    "        'device': 'gpu',\n",
    "    }\n",
    "    cv = KFold(n_splits=5, shuffle=True,random_state = 42)\n",
    "    r2_list = []\n",
    "\n",
    "    for train_index, test_index in cv.split(X_pca,y):\n",
    "        X_train_fold, X_test = X_pca[train_index], X_pca[test_index]\n",
    "        y_train, y_test = y[train_index], y[test_index]\n",
    "\n",
    "        model = lgb.LGBMRegressor(**params)\n",
    "\n",
    "        model.fit(X_train_fold, y_train)\n",
    "        y_pred = model.predict(X_test)\n",
    "        r2 = r2_score(y_test, y_pred)\n",
    "        r2_list.append(r2)\n",
    "\n",
    "    return np.mean(r2_list)"
   ]
  },
  {
   "cell_type": "code",
   "execution_count": 42,
   "id": "0942710c",
   "metadata": {
    "papermill": {
     "duration": 0.026192,
     "end_time": "2024-07-05T12:15:16.351213",
     "exception": false,
     "start_time": "2024-07-05T12:15:16.325021",
     "status": "completed"
    },
    "tags": []
   },
   "outputs": [],
   "source": [
    "def objective_cat(trial):\n",
    "    params = {\n",
    "        'learning_rate': trial.suggest_loguniform('learning_rate', 0.01, 0.1),\n",
    "        'depth': trial.suggest_int('depth', 3, 8),\n",
    "        'l2_leaf_reg': trial.suggest_loguniform('l2_leaf_reg', 1e-3, 10),\n",
    "        'iterations': trial.suggest_int('iterations', 100, 1000),\n",
    "        'eval_metric': 'RMSE',\n",
    "        'random_seed': 42,\n",
    "        'verbose': False,\n",
    "        'loss_function':'RMSE',\n",
    "        'task_type': 'GPU'\n",
    "    }\n",
    "\n",
    "    cv = KFold(n_splits=5, shuffle=True,random_state = 42)\n",
    "    r2_list = []\n",
    "\n",
    "    for train_index, test_index in cv.split(X_pca,y):\n",
    "        X_train_fold, X_test = X_pca[train_index], X_pca[test_index]\n",
    "        y_train, y_test = y[train_index], y[test_index]\n",
    "        model = CatBoostRegressor(**params)\n",
    "        model.fit(X_train_fold, y_train, eval_set=(X_test, y_test), early_stopping_rounds=10)\n",
    "        y_pred = model.predict(X_test)\n",
    "        r2 = r2_score(y_test, y_pred)\n",
    "        r2_list.append(r2)\n",
    "\n",
    "    return np.mean(r2_list)"
   ]
  },
  {
   "cell_type": "code",
   "execution_count": null,
   "id": "afdbe2ab",
   "metadata": {
    "papermill": {
     "duration": 591.864547,
     "end_time": "2024-07-05T12:25:08.232077",
     "exception": false,
     "start_time": "2024-07-05T12:15:16.367530",
     "status": "completed"
    },
    "tags": []
   },
   "outputs": [
    {
     "name": "stderr",
     "output_type": "stream",
     "text": [
      "[I 2025-01-19 23:05:24,365] A new study created in memory with name: no-name-47a891b6-8d60-406e-b668-5709818b399a\n"
     ]
    }
   ],
   "source": [
    "study_lgb = optuna.create_study(direction=\"minimize\")\n",
    "study_lgb.optimize(objective_lgb, n_trials=30)\n",
    "print('Best parameters for LightGBM:', study_lgb.best_params)"
   ]
  },
  {
   "cell_type": "code",
   "execution_count": null,
   "id": "6e9dc869",
   "metadata": {
    "papermill": {
     "duration": 196.991958,
     "end_time": "2024-07-05T12:28:25.244147",
     "exception": false,
     "start_time": "2024-07-05T12:25:08.252189",
     "status": "completed"
    },
    "tags": []
   },
   "outputs": [],
   "source": [
    "study_cat = optuna.create_study(direction='minimize')\n",
    "study_cat.optimize(objective_cat, n_trials=30)\n",
    "print('Best parameters for CatBoost:', study_cat.best_params)"
   ]
  },
  {
   "cell_type": "code",
   "execution_count": null,
   "id": "ac69038f",
   "metadata": {
    "papermill": {
     "duration": 6.617761,
     "end_time": "2024-07-05T12:28:31.897473",
     "exception": false,
     "start_time": "2024-07-05T12:28:25.279712",
     "status": "completed"
    },
    "tags": []
   },
   "outputs": [],
   "source": [
    "lgb_best_params = study_lgb.best_params\n",
    "cat_best_params = study_cat.best_params\n",
    "\n",
    "kf = KFold(n_splits=5, shuffle=True, random_state=42)\n",
    "voting_r2 = []\n",
    "\n",
    "for train_index, test_index in kf.split(X_pca):\n",
    "    X_train_fold, X_test = X_pca[train_index], X_pca[test_index]\n",
    "    y_train, y_test = y[train_index], y[test_index]\n",
    "\n",
    "    lgb_model = lgb.LGBMRegressor(**lgb_best_params)\n",
    "    cat_model = CatBoostRegressor(**cat_best_params)\n",
    "\n",
    "    voting_model = VotingRegressor(estimators=[\n",
    "        ('lgb', lgb_model),\n",
    "        ('cat', cat_model)\n",
    "    ])\n",
    "    cat_model.fit(X_train_fold, y_train)\n",
    "    lgb_model.fit(X_train_fold, y_train)\n",
    "    voting_model.fit(X_train_fold, y_train)\n",
    "    y_pred = voting_model.predict(X_test)\n",
    "    r2 = r2_score(y_test, y_pred)\n",
    "    voting_r2.append(r2)\n",
    "\n",
    "print(f'Voting Regressor R^2: {np.mean(voting_r2):.4f} ± {np.std(voting_r2):.4f}')\n"
   ]
  },
  {
   "cell_type": "code",
   "execution_count": null,
   "id": "e7b6a49f",
   "metadata": {
    "papermill": {
     "duration": 0.044938,
     "end_time": "2024-07-05T12:28:31.981134",
     "exception": false,
     "start_time": "2024-07-05T12:28:31.936196",
     "status": "completed"
    },
    "tags": []
   },
   "outputs": [],
   "source": [
    "import joblib"
   ]
  },
  {
   "cell_type": "code",
   "execution_count": null,
   "id": "d6eb38c4",
   "metadata": {
    "papermill": {
     "duration": 0.061615,
     "end_time": "2024-07-05T12:28:32.080296",
     "exception": false,
     "start_time": "2024-07-05T12:28:32.018681",
     "status": "completed"
    },
    "tags": []
   },
   "outputs": [],
   "source": [
    "joblib.dump(voting_model, 'voting_regressor.joblib')\n",
    "joblib.dump(lgb_model, 'LGBMRegressor.joblib')\n",
    "joblib.dump(cat_model, 'CatBoostRegressor.joblib')"
   ]
  },
  {
   "cell_type": "code",
   "execution_count": null,
   "id": "cb710b05",
   "metadata": {
    "papermill": {
     "duration": 0.075747,
     "end_time": "2024-07-05T12:28:32.193243",
     "exception": false,
     "start_time": "2024-07-05T12:28:32.117496",
     "status": "completed"
    },
    "tags": []
   },
   "outputs": [],
   "source": [
    "common_cols = train_term1.columns.intersection(test_term1.columns)\n",
    "\n",
    "# Tạo DataFrame mới chỉ chứa các cột chung\n",
    "train_term1_common = train_term1[common_cols]\n",
    "df_test_common = test_term1[common_cols]\n",
    "\n",
    "# Tìm các hàng khác nhau\n",
    "different_rows = pd.concat([train_term1_common, df_test_common]).drop_duplicates(keep=False)\n",
    "\n",
    "different_rows.reset_index(drop=True, inplace=True)\n",
    "different_rows.head(5)"
   ]
  },
  {
   "cell_type": "code",
   "execution_count": null,
   "id": "b62797b8",
   "metadata": {
    "papermill": {
     "duration": 0.045862,
     "end_time": "2024-07-05T12:28:32.278585",
     "exception": false,
     "start_time": "2024-07-05T12:28:32.232723",
     "status": "completed"
    },
    "tags": []
   },
   "outputs": [],
   "source": [
    "X_test= different_rows.drop(columns=[\"username\"])"
   ]
  },
  {
   "cell_type": "code",
   "execution_count": null,
   "id": "0b9f262f",
   "metadata": {
    "papermill": {
     "duration": 0.046333,
     "end_time": "2024-07-05T12:28:32.362881",
     "exception": false,
     "start_time": "2024-07-05T12:28:32.316548",
     "status": "completed"
    },
    "tags": []
   },
   "outputs": [],
   "source": [
    "X_pca = np.asarray(X_test)"
   ]
  },
  {
   "cell_type": "code",
   "execution_count": null,
   "id": "7f5eb59c",
   "metadata": {
    "papermill": {
     "duration": 0.05764,
     "end_time": "2024-07-05T12:28:32.458838",
     "exception": false,
     "start_time": "2024-07-05T12:28:32.401198",
     "status": "completed"
    },
    "tags": []
   },
   "outputs": [],
   "source": [
    "y_pre1 = lgb_model.predict(X_pca)\n",
    "y_pre2 = cat_model.predict(X_pca)\n",
    "y_pre3 = voting_model.predict(X_pca)"
   ]
  },
  {
   "cell_type": "code",
   "execution_count": null,
   "id": "62615ca5",
   "metadata": {
    "papermill": {
     "duration": 0.069136,
     "end_time": "2024-07-05T12:28:32.567338",
     "exception": false,
     "start_time": "2024-07-05T12:28:32.498202",
     "status": "completed"
    },
    "tags": []
   },
   "outputs": [],
   "source": [
    "username = different_rows['username'].to_list()\n",
    "results1 = []\n",
    "for i, value in enumerate(y_pre1):\n",
    "    results1.append((username[i], value))\n",
    "df = pd.DataFrame(results1, columns=['file_name', 'label'])\n",
    "df.to_csv('outputCK_1.csv', index=False, header=False)"
   ]
  },
  {
   "cell_type": "code",
   "execution_count": null,
   "id": "b020e107",
   "metadata": {
    "papermill": {
     "duration": 0.050626,
     "end_time": "2024-07-05T12:28:32.656240",
     "exception": false,
     "start_time": "2024-07-05T12:28:32.605614",
     "status": "completed"
    },
    "tags": []
   },
   "outputs": [],
   "source": [
    "results2 = []\n",
    "for i, value in enumerate(y_pre2):\n",
    "    results2.append((username[i], value))\n",
    "df = pd.DataFrame(results2, columns=['file_name', 'label'])\n",
    "df.to_csv('outputCK_2.csv', index=False, header=False)"
   ]
  },
  {
   "cell_type": "code",
   "execution_count": null,
   "id": "0ec20813",
   "metadata": {
    "papermill": {
     "duration": 0.049528,
     "end_time": "2024-07-05T12:28:32.743182",
     "exception": false,
     "start_time": "2024-07-05T12:28:32.693654",
     "status": "completed"
    },
    "tags": []
   },
   "outputs": [],
   "source": [
    "results3 = []\n",
    "for i, value in enumerate(y_pre3):\n",
    "    results3.append((username[i], value))\n",
    "df = pd.DataFrame(results3, columns=['file_name', 'label'])\n",
    "df.to_csv('outputCK_3.csv', index=False, header=False)"
   ]
  }
 ],
 "metadata": {
  "kaggle": {
   "accelerator": "nvidiaTeslaT4",
   "dataSources": [
    {
     "datasetId": 5169654,
     "sourceId": 8633425,
     "sourceType": "datasetVersion"
    }
   ],
   "dockerImageVersionId": 30733,
   "isGpuEnabled": true,
   "isInternetEnabled": true,
   "language": "python",
   "sourceType": "notebook"
  },
  "kernelspec": {
   "display_name": "Python 3 (ipykernel)",
   "language": "python",
   "name": "python3"
  },
  "language_info": {
   "codemirror_mode": {
    "name": "ipython",
    "version": 3
   },
   "file_extension": ".py",
   "mimetype": "text/x-python",
   "name": "python",
   "nbconvert_exporter": "python",
   "pygments_lexer": "ipython3",
   "version": "3.11.9"
  },
  "papermill": {
   "default_parameters": {},
   "duration": 919.52802,
   "end_time": "2024-07-05T12:28:33.502524",
   "environment_variables": {},
   "exception": null,
   "input_path": "__notebook__.ipynb",
   "output_path": "__notebook__.ipynb",
   "parameters": {},
   "start_time": "2024-07-05T12:13:13.974504",
   "version": "2.5.0"
  }
 },
 "nbformat": 4,
 "nbformat_minor": 5
}
