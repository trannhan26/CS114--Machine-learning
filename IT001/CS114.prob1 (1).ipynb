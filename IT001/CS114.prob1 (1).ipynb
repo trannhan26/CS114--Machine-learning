{
 "cells": [
  {
   "cell_type": "code",
   "execution_count": 1,
   "id": "83f48775-5fdc-473e-b228-97297d932b82",
   "metadata": {},
   "outputs": [],
   "source": [
    "import pandas as pd\n",
    "from sklearn.model_selection import train_test_split\n",
    "from sklearn.ensemble import RandomForestRegressor\n",
    "from sklearn.metrics import r2_score"
   ]
  },
  {
   "cell_type": "code",
   "execution_count": 2,
   "id": "9c4aba74-6ed8-457f-9cea-b1bdd01b8702",
   "metadata": {},
   "outputs": [
    {
     "name": "stdout",
     "output_type": "stream",
     "text": [
      "            concat('it001',`assignment_id`)  \\\n",
      "0  90ce27571176d87961b565d5ef4b3de33ede04ac   \n",
      "1  90ce27571176d87961b565d5ef4b3de33ede04ac   \n",
      "2  90ce27571176d87961b565d5ef4b3de33ede04ac   \n",
      "3  90ce27571176d87961b565d5ef4b3de33ede04ac   \n",
      "4  90ce27571176d87961b565d5ef4b3de33ede04ac   \n",
      "\n",
      "               concat('it001',`problem_id`)  \\\n",
      "0  789454427dd4097a14749e3dde63346b7a8d3811   \n",
      "1  789454427dd4097a14749e3dde63346b7a8d3811   \n",
      "2  789454427dd4097a14749e3dde63346b7a8d3811   \n",
      "3  bf96fbdc5f499538c3e2bfbec5779c8a14b0a9ff   \n",
      "4  7a6e5ca470ff47c3b5048f240c4738de71010c78   \n",
      "\n",
      "                  concat('it001', username)  is_final status  pre_score  \\\n",
      "0  ed9eaeb6a707f50154024b24d7efcb874a9795dd         0  SCORE          0   \n",
      "1  ed9eaeb6a707f50154024b24d7efcb874a9795dd         0  SCORE          0   \n",
      "2  ed9eaeb6a707f50154024b24d7efcb874a9795dd         1  SCORE      10000   \n",
      "3  ed9eaeb6a707f50154024b24d7efcb874a9795dd         1  SCORE      10000   \n",
      "4  ed9eaeb6a707f50154024b24d7efcb874a9795dd         1  SCORE      10000   \n",
      "\n",
      "   coefficient concat('it001',`language_id`)      created_at      updated_at  \\\n",
      "0          100                        it0012  10-09 08:02:04  10-09 08:06:58   \n",
      "1          100                        it0012  10-09 08:04:41  10-09 08:04:51   \n",
      "2          100                        it0012  10-09 08:06:49  10-09 08:06:58   \n",
      "3          100                        it0012  10-09 08:47:52  10-09 08:48:01   \n",
      "4          100                        it0012  10-09 09:19:35  10-09 09:19:45   \n",
      "\n",
      "                                           judgement  \n",
      "0  {\"times\":[0,0,0,0,0,0,0,0,0,0],\"mems\":[0,0,0,0...  \n",
      "1  {\"times\":[0,0,0,0,0,0,0,0,0,0],\"mems\":[0,0,0,0...  \n",
      "2  {\"times\":[0,0,0,0,0,0,0,0,0,0],\"mems\":[0,0,0,0...  \n",
      "3  {\"times\":[0,0,0,0,0,0,0,0,0,0],\"mems\":[0,0,0,0...  \n",
      "4  {\"times\":[0,0,0,0,0,0,0,0,0,0],\"mems\":[0,0,0,0...  \n",
      "<class 'pandas.core.frame.DataFrame'>\n",
      "RangeIndex: 295198 entries, 0 to 295197\n",
      "Data columns (total 11 columns):\n",
      " #   Column                           Non-Null Count   Dtype \n",
      "---  ------                           --------------   ----- \n",
      " 0   concat('it001',`assignment_id`)  295198 non-null  object\n",
      " 1   concat('it001',`problem_id`)     295198 non-null  object\n",
      " 2   concat('it001', username)        295198 non-null  object\n",
      " 3   is_final                         295198 non-null  int64 \n",
      " 4   status                           295198 non-null  object\n",
      " 5   pre_score                        295198 non-null  int64 \n",
      " 6   coefficient                      295198 non-null  int64 \n",
      " 7   concat('it001',`language_id`)    295198 non-null  object\n",
      " 8   created_at                       295198 non-null  object\n",
      " 9   updated_at                       295198 non-null  object\n",
      " 10  judgement                        295198 non-null  object\n",
      "dtypes: int64(3), object(8)\n",
      "memory usage: 24.8+ MB\n",
      "None\n"
     ]
    }
   ],
   "source": [
    "data = pd.read_csv('C:/Users/nguye/Downloads/cs114/data-tbtl/annonimized.csv')\n",
    "\n",
    "print(data.head())\n",
    "print(data.info())"
   ]
  },
  {
   "cell_type": "code",
   "execution_count": 3,
   "id": "f7b9d919-e450-4760-8888-200cc9c63415",
   "metadata": {},
   "outputs": [
    {
     "name": "stdout",
     "output_type": "stream",
     "text": [
      "Index(['concat('it001',`assignment_id`)', 'concat('it001',`problem_id`)',\n",
      "       'concat('it001', username)', 'is_final', 'status', 'pre_score',\n",
      "       'coefficient', 'concat('it001',`language_id`)', 'created_at',\n",
      "       'updated_at', 'judgement'],\n",
      "      dtype='object')\n"
     ]
    }
   ],
   "source": [
    "print(data.columns)"
   ]
  },
  {
   "cell_type": "code",
   "execution_count": 4,
   "id": "4068677a-6b0b-480d-b01f-2c9701812663",
   "metadata": {},
   "outputs": [
    {
     "name": "stdout",
     "output_type": "stream",
     "text": [
      "Index(['assignment_id', 'problem_id', 'username', 'is_final', 'status',\n",
      "       'pre_score', 'coefficient', 'language_id', 'created_at', 'updated_at',\n",
      "       'judgement'],\n",
      "      dtype='object')\n",
      "Index(['assignment_id', 'problem_id', 'username', 'is_final', 'status',\n",
      "       'pre_score', 'coefficient', 'language_id', 'created_at', 'updated_at',\n",
      "       'judgement'],\n",
      "      dtype='object')\n"
     ]
    }
   ],
   "source": [
    "data.columns = data.columns.str.replace(r\"concat\\('it001',\\s*\", \"\", regex=True).str.replace(r\"\\)\", \"\", regex=True).str.strip('`')\n",
    "\n",
    "print(data.columns)\n",
    "\n",
    "if 'assignment_id' not in data.columns:\n",
    "    data.rename(columns={\"assignment_id\": \"assignment_id\"}, inplace=True)\n",
    "\n",
    "if 'username' not in data.columns:\n",
    "    data.rename(columns={\"username\": \"username\"}, inplace=True)\n",
    "\n",
    "print(data.columns)\n",
    "\n",
    "data['total_submissions'] = data.groupby('username')['assignment_id'].transform('count')\n",
    "data['avg_testcase_passed'] = data['pre_score']\n",
    "data['late_submission_penalty'] = data['coefficient'] * -1"
   ]
  },
  {
   "cell_type": "code",
   "execution_count": 5,
   "id": "7dc7d772-ac76-4098-9739-9bb890a26ee1",
   "metadata": {},
   "outputs": [
    {
     "name": "stdout",
     "output_type": "stream",
     "text": [
      "Index(['username', 'TBTL'], dtype='object')\n",
      "                              assignment_id  \\\n",
      "0  90ce27571176d87961b565d5ef4b3de33ede04ac   \n",
      "1  90ce27571176d87961b565d5ef4b3de33ede04ac   \n",
      "2  90ce27571176d87961b565d5ef4b3de33ede04ac   \n",
      "3  90ce27571176d87961b565d5ef4b3de33ede04ac   \n",
      "4  90ce27571176d87961b565d5ef4b3de33ede04ac   \n",
      "\n",
      "                                 problem_id  \\\n",
      "0  789454427dd4097a14749e3dde63346b7a8d3811   \n",
      "1  789454427dd4097a14749e3dde63346b7a8d3811   \n",
      "2  789454427dd4097a14749e3dde63346b7a8d3811   \n",
      "3  bf96fbdc5f499538c3e2bfbec5779c8a14b0a9ff   \n",
      "4  7a6e5ca470ff47c3b5048f240c4738de71010c78   \n",
      "\n",
      "                                   username  is_final status  pre_score  \\\n",
      "0  ed9eaeb6a707f50154024b24d7efcb874a9795dd         0  SCORE          0   \n",
      "1  ed9eaeb6a707f50154024b24d7efcb874a9795dd         0  SCORE          0   \n",
      "2  ed9eaeb6a707f50154024b24d7efcb874a9795dd         1  SCORE      10000   \n",
      "3  ed9eaeb6a707f50154024b24d7efcb874a9795dd         1  SCORE      10000   \n",
      "4  ed9eaeb6a707f50154024b24d7efcb874a9795dd         1  SCORE      10000   \n",
      "\n",
      "   coefficient language_id      created_at      updated_at  \\\n",
      "0          100      it0012  10-09 08:02:04  10-09 08:06:58   \n",
      "1          100      it0012  10-09 08:04:41  10-09 08:04:51   \n",
      "2          100      it0012  10-09 08:06:49  10-09 08:06:58   \n",
      "3          100      it0012  10-09 08:47:52  10-09 08:48:01   \n",
      "4          100      it0012  10-09 09:19:35  10-09 09:19:45   \n",
      "\n",
      "                                           judgement  total_submissions  \\\n",
      "0  {\"times\":[0,0,0,0,0,0,0,0,0,0],\"mems\":[0,0,0,0...                139   \n",
      "1  {\"times\":[0,0,0,0,0,0,0,0,0,0],\"mems\":[0,0,0,0...                139   \n",
      "2  {\"times\":[0,0,0,0,0,0,0,0,0,0],\"mems\":[0,0,0,0...                139   \n",
      "3  {\"times\":[0,0,0,0,0,0,0,0,0,0],\"mems\":[0,0,0,0...                139   \n",
      "4  {\"times\":[0,0,0,0,0,0,0,0,0,0],\"mems\":[0,0,0,0...                139   \n",
      "\n",
      "   avg_testcase_passed  late_submission_penalty  TBTL  \n",
      "0                    0                     -100   NaN  \n",
      "1                    0                     -100   NaN  \n",
      "2                10000                     -100   NaN  \n",
      "3                10000                     -100   NaN  \n",
      "4                10000                     -100   NaN  \n"
     ]
    }
   ],
   "source": [
    "tbtl_data = pd.read_excel('C:/Users/nguye/Downloads/cs114/data-tbtl/tbtl-public.ods', engine='odf')\n",
    "\n",
    "print(tbtl_data.columns)\n",
    "\n",
    "tbtl_data.rename(columns={\"student_id\": \"username\"}, inplace=True) \n",
    "\n",
    "data = data.merge(tbtl_data[['username', 'TBTL']], on='username', how='left')\n",
    "\n",
    "X = data[['total_submissions', 'avg_testcase_passed', 'late_submission_penalty']]  \n",
    "y = data['TBTL'] \n",
    "\n",
    "print(data.head())"
   ]
  },
  {
   "cell_type": "code",
   "execution_count": 6,
   "id": "c91aa80d-8dbe-4efd-90b5-b96145d279e5",
   "metadata": {
    "scrolled": true
   },
   "outputs": [
    {
     "name": "stdout",
     "output_type": "stream",
     "text": [
      "Missing values in y_train:\n",
      "133802\n",
      "Missing values in y_train after handling:\n",
      "0\n",
      "Model Performance:\n",
      "Mean Absolute Error: 2.1527017922753386\n",
      "Mean Squared Error: 8.787458543471432\n",
      "R-squared: 0.45203221531334314\n"
     ]
    }
   ],
   "source": [
    "X = data[['total_submissions', 'avg_testcase_passed', 'late_submission_penalty']]\n",
    "y = data['TBTL']\n",
    "\n",
    "print(\"Missing values in y_train:\")\n",
    "print(y.isnull().sum())\n",
    "\n",
    "y = y.fillna(0)\n",
    "\n",
    "print(\"Missing values in y_train after handling:\")\n",
    "print(y.isnull().sum())\n",
    "\n",
    "X_train, X_test, y_train, y_test = train_test_split(X, y, test_size=0.2, random_state=42)\n",
    "\n",
    "model = RandomForestRegressor()\n",
    "model.fit(X_train, y_train)\n",
    "\n",
    "y_pred = model.predict(X_test)\n",
    "\n",
    "from sklearn.metrics import mean_absolute_error, mean_squared_error, r2_score\n",
    "print(\"Model Performance:\")\n",
    "print(f\"Mean Absolute Error: {mean_absolute_error(y_test, y_pred)}\")\n",
    "print(f\"Mean Squared Error: {mean_squared_error(y_test, y_pred)}\")\n",
    "print(f\"R-squared: {r2_score(y_test, y_pred)}\")"
   ]
  },
  {
   "cell_type": "code",
   "execution_count": 7,
   "id": "8fc5b3c1-2ce9-4687-974d-165c41caf4fd",
   "metadata": {},
   "outputs": [
    {
     "name": "stdout",
     "output_type": "stream",
     "text": [
      "                                     username  predicted_TBTL\n",
      "0    ed9eaeb6a707f50154024b24d7efcb874a9795dd        1.440736\n",
      "139  ba12c0a2cb367af0467e479c03507c71a805d291        4.973149\n",
      "458  0bd2037bf68a97753e5e67ab55dac026a649f279        4.121803\n",
      "678  b7298b0fe50443a623af9b56792b330c2d052845        4.309537\n",
      "925  c60be70309789b39355dc612f36e37090ccad5dc        3.562554\n"
     ]
    }
   ],
   "source": [
    "final_predictions = model.predict(X)\n",
    "\n",
    "submission = pd.DataFrame({'username': data['username'], 'predicted_TBTL': final_predictions})\n",
    "\n",
    "submission['predicted_TBTL'] = submission['predicted_TBTL'].fillna(0)\n",
    "\n",
    "submission_unique = submission.drop_duplicates(subset='username', keep='first')\n",
    "\n",
    "submission_unique.to_csv('predicted_tbtl.csv', index=False)\n",
    "\n",
    "print(submission_unique.head())"
   ]
  }
 ],
 "metadata": {
  "kernelspec": {
   "display_name": "Python 3 (ipykernel)",
   "language": "python",
   "name": "python3"
  },
  "language_info": {
   "codemirror_mode": {
    "name": "ipython",
    "version": 3
   },
   "file_extension": ".py",
   "mimetype": "text/x-python",
   "name": "python",
   "nbconvert_exporter": "python",
   "pygments_lexer": "ipython3",
   "version": "3.11.9"
  }
 },
 "nbformat": 4,
 "nbformat_minor": 5
}
